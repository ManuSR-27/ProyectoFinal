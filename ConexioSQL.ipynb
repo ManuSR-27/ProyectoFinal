{
 "cells": [
  {
   "cell_type": "code",
   "execution_count": 2,
   "id": "00928dae",
   "metadata": {},
   "outputs": [],
   "source": [
    "import pyodbc\n",
    "\n",
    "direccion_servidor = '192.168.1.6'\n",
    "nombre_bd = 'Farmacia'\n",
    "nombre_usuario = 'farmacia'\n",
    "password = '123'\n",
    "\n",
    "try:\n",
    "    conexion = pyodbc.connect('DRIVER={ODBC Driver 17 for SQL Server};SERVER=' + direccion_servidor+';DATABASE='+nombre_bd+';UID='+nombre_usuario+';PWD=' + password)\n",
    "    # OK! conexión exitosa\n",
    "    print(\"conexión exitosa\")\n",
    "except Exception as e:\n",
    "    # Atrapar error\n",
    "    print(\"Ocurrió un error al conectar a SQL Server: \")"
   ]
  },
  {
   "cell_type": "code",
   "execution_count": null,
   "id": "bdf26424",
   "metadata": {},
   "outputs": [],
   "source": []
  }
 ],
 "metadata": {
  "kernelspec": {
   "display_name": "Python 3 (ipykernel)",
   "language": "python",
   "name": "python3"
  },
  "language_info": {
   "codemirror_mode": {
    "name": "ipython",
    "version": 3
   },
   "file_extension": ".py",
   "mimetype": "text/x-python",
   "name": "python",
   "nbconvert_exporter": "python",
   "pygments_lexer": "ipython3",
   "version": "3.9.7"
  }
 },
 "nbformat": 4,
 "nbformat_minor": 5
}
