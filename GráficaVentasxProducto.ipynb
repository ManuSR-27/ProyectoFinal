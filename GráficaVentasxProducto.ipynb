{
 "cells": [
  {
   "cell_type": "code",
   "execution_count": null,
   "id": "61b84ed3",
   "metadata": {},
   "outputs": [],
   "source": [
    "from logging import exception\n",
    "import matplotlib.pyplot as plt\n",
    "from conexion.ConexionSQL import conexion\n",
    "\n",
    "try:\n",
    "    with conexion.cursor() as cursor:\n",
    "        # En este caso no necesitamos limpiar ningún dato\n",
    "        cursor.execute(\"SELECT NombreProducto, COUNT(1) Cantidad  FROM Domicilio GROUP BY NombreProducto;\")\n",
    "        # Con fetchall traemos todas las filas\n",
    "        pacientes = cursor.fetchall()\n",
    "        \n",
    "        producto=[]\n",
    "        ventas=[]\n",
    "        # Recorrer e imprimir\n",
    "        for registro in cursor:\n",
    "            producto.append(registro[0])\n",
    "            ventas.append=registro[1]\n",
    "        \n",
    "        plt.bar(producto, ventas)\n",
    "        plt.ylim(0,5)\n",
    "        plt.xlabel(\"Productos vendidos\")\n",
    "        plt.ylabel(\"ventas\")\n",
    "        plt.title(\"Cantidad de ventas por producto\")\n",
    "        plt.show()\n",
    "            \n",
    "except Exception as e:\n",
    "    print(\"Ocurrió un error al consultar: \", e)\n",
    "finally:\n",
    "    conexion.close()"
   ]
  },
  {
   "cell_type": "code",
   "execution_count": null,
   "id": "2ec93de9",
   "metadata": {},
   "outputs": [],
   "source": [
    "import matplotlib.pyplot as plt\n",
    "## Declaramos valores para el eje x\n",
    "eje_x = ['Python', 'R', 'Node.js', 'PHP']\n",
    "## Declaramos valores para el eje y\n",
    "eje_y = [50,20,35,47]\n",
    "## Creamos Gráfica\n",
    "plt.bar(eje_x, eje_y)\n",
    "## Legenda en el eje y\n",
    "plt.ylabel('Cantidad de usuarios')\n",
    "## Legenda en el eje x\n",
    "plt.xlabel('Lenguajes de programación')\n",
    "## Título de Gráfica\n",
    "plt.title('Usuarios de lenguajes de programación')\n",
    "## Mostramos Gráfica\n",
    "plt.show()"
   ]
  },
  {
   "cell_type": "code",
   "execution_count": 2,
   "id": "5b371ca9",
   "metadata": {},
   "outputs": [
    {
     "data": {
      "image/png": "[encoded data removed]",
      "text/plain": [
       "<Figure size 432x288 with 1 Axes>"
      ]
     },
     "metadata": {},
     "output_type": "display_data"
    }
   ],
   "source": [
    "manzanas = [20,10,25,30]\n",
    "nombres = [\"Ana\",\"Juan\",\"Diana\",\"Catalina\"]\n",
    "plt.pie(manzanas, labels=nombres, autopct=\"%0.1f %%\")\n",
    "plt.axis(\"equal\")\n",
    "plt.show()"
   ]
  },
  {
   "cell_type": "code",
   "execution_count": null,
   "id": "47dd40bd",
   "metadata": {},
   "outputs": [],
   "source": []
  }
 ],
 "metadata": {
  "kernelspec": {
   "display_name": "Python 3 (ipykernel)",
   "language": "python",
   "name": "python3"
  },
  "language_info": {
   "codemirror_mode": {
    "name": "ipython",
    "version": 3
   },
   "file_extension": ".py",
   "mimetype": "text/x-python",
   "name": "python",
   "nbconvert_exporter": "python",
   "pygments_lexer": "ipython3",
   "version": "3.9.7"
  }
 },
 "nbformat": 4,
 "nbformat_minor": 5
}
